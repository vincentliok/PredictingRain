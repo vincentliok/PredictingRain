{
  "nbformat": 4,
  "nbformat_minor": 0,
  "metadata": {
    "colab": {
      "name": "ML Final Project.ipynb",
      "provenance": [],
      "collapsed_sections": []
    },
    "kernelspec": {
      "name": "python3",
      "display_name": "Python 3"
    },
    "language_info": {
      "name": "python"
    }
  },
  "cells": [
    {
      "cell_type": "markdown",
      "metadata": {
        "id": "EZnPuBAIoB1i"
      },
      "source": [
        "#**Intro to Machine Learning Final Project**\n",
        "##Rain in Australia\n",
        "#####Vincent Liok (vl1042) and Andrey Khegay (ak6585)"
      ]
    },
    {
      "cell_type": "markdown",
      "metadata": {
        "id": "BZYS_8R7rQ7q"
      },
      "source": [
        "###**Problem description**\n",
        "This project will analyze weather conditions in Australia, and try to predict whether or not it will rain on a given day, based on the previous day's weather conditions. This makes it a classification problem, so machine learning techniques like logistic regression and support vector machines (SVM) can be used for prediction. To prevent overfitting, different levels of regularization will be added to the ML model"
      ]
    },
    {
      "cell_type": "code",
      "metadata": {
        "id": "qYDkYddsn7gq"
      },
      "source": [
        "#Imports libraries\n",
        "import numpy as np\n",
        "import pandas as pd\n",
        "import matplotlib.pyplot as plt\n",
        "import numpy.random as r\n",
        "\n",
        "from sklearn.model_selection import train_test_split\n",
        "from sklearn.utils import shuffle\n",
        "from sklearn.preprocessing import StandardScaler\n",
        "from sklearn.metrics import accuracy_score\n",
        "from sklearn import linear_model\n",
        "%matplotlib inline"
      ],
      "execution_count": null,
      "outputs": []
    },
    {
      "cell_type": "code",
      "metadata": {
        "id": "KDQKh6EooxBe",
        "colab": {
          "base_uri": "https://localhost:8080/"
        },
        "outputId": "c92d0548-b2e0-446f-a92c-bbe303c6aea4"
      },
      "source": [
        "#Mounts Google Drive\n",
        "from google.colab import drive\n",
        "drive.mount(\"/content/drive\")"
      ],
      "execution_count": null,
      "outputs": [
        {
          "output_type": "stream",
          "text": [
            "Drive already mounted at /content/drive; to attempt to forcibly remount, call drive.mount(\"/content/drive\", force_remount=True).\n"
          ],
          "name": "stdout"
        }
      ]
    },
    {
      "cell_type": "markdown",
      "metadata": {
        "id": "yi7lzeYSv4on"
      },
      "source": [
        "###**Dataset analysis**\n",
        "The dataset used in this project contains around 10 years of daily weather measurements collected in various locations in Australia. These measurements include minimum and maximum temperature, amount of rainfall, wind speed, atmospheric pressure levels, etc."
      ]
    },
    {
      "cell_type": "code",
      "metadata": {
        "id": "CySJw0uXpbxb"
      },
      "source": [
        "#Reads in data from CSV file, and removes null rows\n",
        "weather_df = pd.read_csv(\"drive/MyDrive/weatherAUS.csv\", header=0)\n",
        "weather_df = weather_df.dropna()"
      ],
      "execution_count": null,
      "outputs": []
    },
    {
      "cell_type": "code",
      "metadata": {
        "id": "Eze89CDXqo5Q"
      },
      "source": [
        "#Converts pandas dataframe into numpy array and shuffle\n",
        "weather_data = np.array(weather_df)\n",
        "weather_data = shuffle(weather_data, random_state=0)"
      ],
      "execution_count": null,
      "outputs": []
    },
    {
      "cell_type": "code",
      "metadata": {
        "colab": {
          "base_uri": "https://localhost:8080/"
        },
        "id": "d1ICmYJStMiL",
        "outputId": "d05f5ba4-803e-410d-a1eb-dce01c347184"
      },
      "source": [
        "#Shows the dimensions of the data\n",
        "print(\"Dimensions of dataset:\", weather_data.shape)"
      ],
      "execution_count": null,
      "outputs": [
        {
          "output_type": "stream",
          "text": [
            "Dimensions of dataset: (56420, 23)\n"
          ],
          "name": "stdout"
        }
      ]
    },
    {
      "cell_type": "code",
      "metadata": {
        "id": "Ot-R4yMc1K_B"
      },
      "source": [
        "#Split the features and target, remove first two columns, use first 2000 rows\n",
        "X = weather_data[:2000, 2:22]\n",
        "y = weather_data[:2000, 22]\n",
        "\n",
        "\n",
        "#Below is old code to balance the data\n",
        "'''\n",
        "test = weather_data[-1000:]\n",
        "training = np.zeros((1000, 23), dtype=object)\n",
        "\n",
        "count = 0\n",
        "for i in range(len(weather_data)):\n",
        "  if (weather_data[i][-1] == \"Yes\"):\n",
        "    training[count] = weather_data[i]\n",
        "    count += 1\n",
        "    if (count >= 500):\n",
        "      break\n",
        "\n",
        "for i in range(len(weather_data)):\n",
        "  if (weather_data[i][-1] == \"No\"):\n",
        "    training[count] = weather_data[i]\n",
        "    count += 1\n",
        "    if (count >= 1000):\n",
        "      break\n",
        "\n",
        "total = np.vstack((training, test))\n",
        "total = total[:, 2:]\n",
        "total = np.delete(total, 8, 1)\n",
        "total = np.delete(total, 7, 1)\n",
        "total = np.delete(total, 5, 1)\n",
        "\n",
        "for i in range(len(total)):\n",
        "  if (total[i][-1] == \"Yes\"):\n",
        "    total[i][-1] = 1.\n",
        "  if (total[i][-2] == \"Yes\"):\n",
        "    total[i][-2] = 1.\n",
        "  if (total[i][-1] == \"No\"):\n",
        "    total[i][-1] = 0.\n",
        "  if (total[i][-2] == \"No\"):\n",
        "    total[i][-2] = 0.\n",
        "\n",
        "X = total[:, :17]\n",
        "y = total[:, 17].reshape((2000,1)).astype(float)\n",
        "\n",
        "X_scale = StandardScaler()\n",
        "X = X_scale.fit_transform(X)\n",
        "\n",
        "total = np.hstack((X,y))\n",
        "\n",
        "training = total[:1000]\n",
        "test = total[1000:]\n",
        "\n",
        "training = shuffle(training, random_state=1)\n",
        "\n",
        "X_train = training[:, :17]\n",
        "y_train = training[:, 17].reshape((1000,1)).astype(float)\n",
        "\n",
        "X_test = test[:, :17]\n",
        "y_test = test[:, 17].reshape((1000,1)).astype(float)\n",
        "'''\n",
        "\n",
        "#Remove wind direction columns\n",
        "X = np.delete(X, 8, 1)\n",
        "X = np.delete(X, 7, 1)\n",
        "X = np.delete(X, 5, 1)\n",
        "\n",
        "#Change \"Yes\" and \"No\" to 1 and 0\n",
        "for i in range(len(X)):\n",
        "  if (X[i][-1] == \"Yes\"):\n",
        "    X[i][-1] = 1.\n",
        "  else:\n",
        "    X[i][-1] = 0.\n",
        "\n",
        "for i in range(len(y)):\n",
        "  if (y[i] == \"Yes\"):\n",
        "    y[i] = 1.\n",
        "  else:\n",
        "    y[i] = 0.\n",
        "\n",
        "#Scale the data\n",
        "X_scale = StandardScaler()\n",
        "X = X_scale.fit_transform(X)\n",
        "\n",
        "#Reshape y\n",
        "y = y.reshape((2000,1)).astype(float)\n",
        "\n",
        "\n"
      ],
      "execution_count": null,
      "outputs": []
    },
    {
      "cell_type": "code",
      "metadata": {
        "id": "UWho3x4PhJY9"
      },
      "source": [
        "#Splitting the dataset into training and test data.\n",
        "X_train = X[:1000]\n",
        "y_train = y[:1000]\n",
        "X_test = X[1000:]\n",
        "y_test = y[1000:]"
      ],
      "execution_count": null,
      "outputs": []
    },
    {
      "cell_type": "markdown",
      "metadata": {
        "id": "CDApjZl9dbgj"
      },
      "source": [
        "###**Neural Network**"
      ]
    },
    {
      "cell_type": "code",
      "metadata": {
        "id": "WEjeEkd2mWr7"
      },
      "source": [
        "#Sigmoid functions\n",
        "def f(z):\n",
        "    #z = z.astype(float)\n",
        "    return 1 / (1 + np.exp(-z))\n",
        "\n",
        "def f_deriv(z):\n",
        "    return f(z) * (1 - f(z))\n",
        "\n",
        "#Setup weights\n",
        "def setup_and_init_weights(nn_structure):\n",
        "    W = {} #creating a dictionary i.e. a set of key: value pairs\n",
        "    b = {}\n",
        "    for l in range(1, len(nn_structure)):\n",
        "        W[l] = r.random_sample((nn_structure[l], nn_structure[l-1])) #Return “continuous uniform” random floats in the half-open interval [0.0, 1.0). \n",
        "        b[l] = r.random_sample((nn_structure[l],))\n",
        "    return W, b\n",
        "\n",
        "def init_tri_values(nn_structure):\n",
        "    tri_W = {}\n",
        "    tri_b = {}\n",
        "    for l in range(1, len(nn_structure)):\n",
        "        tri_W[l] = np.zeros((nn_structure[l], nn_structure[l-1]))\n",
        "        tri_b[l] = np.zeros((nn_structure[l],))\n",
        "    return tri_W, tri_b\n",
        "\n",
        "#Feed forward\n",
        "def feed_forward(x, W, b):\n",
        "    a = {1: x} # create a dictionary for holding the a values for all levels\n",
        "    z = { } # create a dictionary for holding the z values for all the layers\n",
        "    for l in range(1, len(W) + 1): # for each layer\n",
        "        node_in = a[l]\n",
        "        z[l+1] = W[l].dot(node_in) + b[l]  # z^(l+1) = W^(l)*a^(l) + b^(l)\n",
        "        a[l+1] = f(z[l+1]) # a^(l+1) = f(z^(l+1))\n",
        "    return a, z\n",
        "\n",
        "#Calculate delta\n",
        "def calculate_out_layer_delta(y, a_out, z_out):\n",
        "    # delta^(nl) = -(y_i - a_i^(nl)) * f'(z_i^(nl))\n",
        "    return -(y-a_out) * f_deriv(z_out) \n",
        "\n",
        "def calculate_hidden_delta(delta_plus_1, w_l, z_l):\n",
        "    # delta^(l) = (transpose(W^(l)) * delta^(l+1)) * f'(z^(l))\n",
        "    return np.dot(np.transpose(w_l), delta_plus_1) * f_deriv(z_l)\n",
        "\n",
        "#Back propagation algorithm\n",
        "def train_nn(nn_structure, X, y, iter_num=3000, alpha=0.5, lamb=0.001):\n",
        "    W, b = setup_and_init_weights(nn_structure)\n",
        "    cnt = 0\n",
        "    N = len(y)\n",
        "    avg_cost_func = []\n",
        "    print('Starting gradient descent for {} iterations'.format(iter_num))\n",
        "    while cnt < iter_num:\n",
        "        #print(cnt)\n",
        "        #if cnt%1000 == 0:\n",
        "        #    print('Iteration {} of {}'.format(cnt, iter_num))\n",
        "        tri_W, tri_b = init_tri_values(nn_structure)\n",
        "        avg_cost = 0\n",
        "        for i in range(N):\n",
        "            delta = {}\n",
        "            # perform the feed forward pass and return the stored a and z values, to be used in the\n",
        "            # gradient descent step\n",
        "            a, z = feed_forward(X[i, :], W, b)\n",
        "            # loop from nl-1 to 1 backpropagating the errors\n",
        "            for l in range(len(nn_structure), 0, -1):\n",
        "                if l == len(nn_structure):\n",
        "                    delta[l] = calculate_out_layer_delta(y[i,:], a[l], z[l])\n",
        "                    avg_cost += np.linalg.norm((y[i,:]-a[l]))\n",
        "                else:\n",
        "                    if l > 1:\n",
        "                        delta[l] = calculate_hidden_delta(delta[l+1], W[l], z[l])\n",
        "                    # triW^(l) = triW^(l) + delta^(l+1) * transpose(a^(l))\n",
        "                    tri_W[l] += np.dot(delta[l+1][:,np.newaxis], np.transpose(a[l][:,np.newaxis]))# np.newaxis increase the number of dimensions\n",
        "                    # trib^(l) = trib^(l) + delta^(l+1)\n",
        "                    tri_b[l] += delta[l+1]\n",
        "        # perform the gradient descent step for the weights in each layer\n",
        "        for l in range(len(nn_structure) - 1, 0, -1):\n",
        "            W[l] += -alpha * (1.0/N * tri_W[l] + lamb * W[l])\n",
        "            b[l] += -alpha * (1.0/N * tri_b[l])\n",
        "        # complete the average cost calculation\n",
        "        avg_cost = 1.0/N * avg_cost\n",
        "        avg_cost_func.append(avg_cost)\n",
        "        cnt += 1\n",
        "    return W, b, avg_cost_func\n",
        "\n",
        "\n",
        "def predict_y(W, b, X, n_layers):\n",
        "    N = X.shape[0]\n",
        "    y = np.zeros((N,))\n",
        "    for i in range(N):\n",
        "        a, z = feed_forward(X[i, :], W, b)\n",
        "        if (a[n_layers] > 0.5):\n",
        "            y[i] = 1.0\n",
        "        else:\n",
        "            y[i] = 0.0\n",
        "    return y\n",
        "\n",
        "nn_structure = [17, 10, 1]\n",
        "    \n",
        "# train the NN\n",
        "#W, b, avg_cost_func = train_nn(nn_structure, X_train, y_train)"
      ],
      "execution_count": null,
      "outputs": []
    },
    {
      "cell_type": "code",
      "metadata": {
        "id": "y48wCX8gvC2P"
      },
      "source": [
        "# plot the avg_cost_func\n",
        "#plt.plot(avg_cost_func)\n",
        "#plt.ylabel('Average J')\n",
        "#plt.xlabel('Iteration number')\n",
        "#plt.show()"
      ],
      "execution_count": null,
      "outputs": []
    },
    {
      "cell_type": "code",
      "metadata": {
        "id": "R3EBH0YR4F3V"
      },
      "source": [
        "# get the prediction accuracy and print\n",
        "#y_pred = predict_y(W, b, X_train, 3)\n",
        "y_test_temp = y_test.reshape(1000).astype(float)\n",
        "y_train_temp = y_train.reshape(1000).astype(float)\n",
        "#print('Prediction accuracy is {}%'.format(accuracy_score(y_test_temp, y_pred) * 100))"
      ],
      "execution_count": null,
      "outputs": []
    },
    {
      "cell_type": "code",
      "metadata": {
        "colab": {
          "base_uri": "https://localhost:8080/",
          "height": 1000
        },
        "id": "Go_g1oRj5Cuz",
        "outputId": "3da5119f-340e-4cce-c154-b0187c49f40e"
      },
      "source": [
        "alpha = [0.01, 0.1, 0.5]\n",
        "lamb = [0.001, 0.01, 0.1]\n",
        "\n",
        "\n",
        "\n",
        "results = np.zeros((len(alpha)*len(lamb), 4))\n",
        "cnt = 0\n",
        "for al in alpha:\n",
        "  for l in lamb:\n",
        "    W, b, avg_cost = train_nn(nn_structure, X_train, y_train, iter_num=1000, alpha=al, lamb=l)\n",
        "    # plot the avg_cost_func\n",
        "    plt.plot(avg_cost)\n",
        "    plt.ylabel('Average J')\n",
        "    plt.xlabel('Iteration number')\n",
        "    plt.title(\"Alpha={} Lambda={}\".format(al, l))\n",
        "    plt.show()\n",
        "    y_pred = predict_y(W, b, X_train, 3)\n",
        "    train_accuracy = accuracy_score(y_train_temp, y_pred) * 100\n",
        "    print(\"Train Accuracy is {}% for {}, {}\".format(train_accuracy, al, l))\n",
        "    y_pred = predict_y(W, b, X_test, 3)\n",
        "    test_accuracy = accuracy_score(y_test_temp, y_pred) * 100\n",
        "    print(\"Test Accuracy is {}% for {}, {}\".format(test_accuracy, al, l))\n",
        "    # store the data\n",
        "    results[cnt, 0] = train_accuracy\n",
        "    results[cnt, 1] = test_accuracy\n",
        "    results[cnt, 2] = al\n",
        "    results[cnt, 3] = l\n",
        "    cnt += 1\n",
        "# get the index of the best accuracy\n",
        "best_idx = np.argmax(results[:, 0])\n",
        "print(results, results[best_idx, :])"
      ],
      "execution_count": null,
      "outputs": [
        {
          "output_type": "stream",
          "text": [
            "Starting gradient descent for 1000 iterations\n"
          ],
          "name": "stdout"
        },
        {
          "output_type": "display_data",
          "data": {
            "image/png": "[encoded data removed]",
            "text/plain": [
              "<Figure size 432x288 with 1 Axes>"
            ]
          },
          "metadata": {
            "tags": [],
            "needs_background": "light"
          }
        },
        {
          "output_type": "stream",
          "text": [
            "Train Accuracy is 20.5% for 0.01, 0.001\n",
            "Test Accuracy is 23.1% for 0.01, 0.001\n",
            "Starting gradient descent for 1000 iterations\n"
          ],
          "name": "stdout"
        },
        {
          "output_type": "display_data",
          "data": {
            "image/png": "[encoded data removed]",
            "text/plain": [
              "<Figure size 432x288 with 1 Axes>"
            ]
          },
          "metadata": {
            "tags": [],
            "needs_background": "light"
          }
        },
        {
          "output_type": "stream",
          "text": [
            "Train Accuracy is 20.5% for 0.01, 0.01\n",
            "Test Accuracy is 23.1% for 0.01, 0.01\n",
            "Starting gradient descent for 1000 iterations\n"
          ],
          "name": "stdout"
        },
        {
          "output_type": "display_data",
          "data": {
            "image/png": "[encoded data removed]",
            "text/plain": [
              "<Figure size 432x288 with 1 Axes>"
            ]
          },
          "metadata": {
            "tags": [],
            "needs_background": "light"
          }
        },
        {
          "output_type": "stream",
          "text": [
            "Train Accuracy is 79.5% for 0.01, 0.1\n",
            "Test Accuracy is 76.9% for 0.01, 0.1\n",
            "Starting gradient descent for 1000 iterations\n"
          ],
          "name": "stdout"
        },
        {
          "output_type": "display_data",
          "data": {
            "image/png": "[encoded data removed]",
            "text/plain": [
              "<Figure size 432x288 with 1 Axes>"
            ]
          },
          "metadata": {
            "tags": [],
            "needs_background": "light"
          }
        },
        {
          "output_type": "stream",
          "text": [
            "Train Accuracy is 79.5% for 0.1, 0.001\n",
            "Test Accuracy is 76.9% for 0.1, 0.001\n",
            "Starting gradient descent for 1000 iterations\n"
          ],
          "name": "stdout"
        },
        {
          "output_type": "display_data",
          "data": {
            "image/png": "[encoded data removed]",
            "text/plain": [
              "<Figure size 432x288 with 1 Axes>"
            ]
          },
          "metadata": {
            "tags": [],
            "needs_background": "light"
          }
        },
        {
          "output_type": "stream",
          "text": [
            "Train Accuracy is 79.5% for 0.1, 0.01\n",
            "Test Accuracy is 76.9% for 0.1, 0.01\n",
            "Starting gradient descent for 1000 iterations\n"
          ],
          "name": "stdout"
        },
        {
          "output_type": "display_data",
          "data": {
            "image/png": "[encoded data removed]",
            "text/plain": [
              "<Figure size 432x288 with 1 Axes>"
            ]
          },
          "metadata": {
            "tags": [],
            "needs_background": "light"
          }
        },
        {
          "output_type": "stream",
          "text": [
            "Train Accuracy is 79.5% for 0.1, 0.1\n",
            "Test Accuracy is 76.9% for 0.1, 0.1\n",
            "Starting gradient descent for 1000 iterations\n"
          ],
          "name": "stdout"
        },
        {
          "output_type": "display_data",
          "data": {
            "image/png": "[encoded data removed]",
            "text/plain": [
              "<Figure size 432x288 with 1 Axes>"
            ]
          },
          "metadata": {
            "tags": [],
            "needs_background": "light"
          }
        },
        {
          "output_type": "stream",
          "text": [
            "Train Accuracy is 84.39999999999999% for 0.5, 0.001\n",
            "Test Accuracy is 81.69999999999999% for 0.5, 0.001\n",
            "Starting gradient descent for 1000 iterations\n"
          ],
          "name": "stdout"
        },
        {
          "output_type": "display_data",
          "data": {
            "image/png": "[encoded data removed]",
            "text/plain": [
              "<Figure size 432x288 with 1 Axes>"
            ]
          },
          "metadata": {
            "tags": [],
            "needs_background": "light"
          }
        },
        {
          "output_type": "stream",
          "text": [
            "Train Accuracy is 79.7% for 0.5, 0.01\n",
            "Test Accuracy is 77.0% for 0.5, 0.01\n",
            "Starting gradient descent for 1000 iterations\n"
          ],
          "name": "stdout"
        },
        {
          "output_type": "display_data",
          "data": {
            "image/png": "[encoded data removed]",
            "text/plain": [
              "<Figure size 432x288 with 1 Axes>"
            ]
          },
          "metadata": {
            "tags": [],
            "needs_background": "light"
          }
        },
        {
          "output_type": "stream",
          "text": [
            "Train Accuracy is 79.5% for 0.5, 0.1\n",
            "Test Accuracy is 76.9% for 0.5, 0.1\n",
            "[[2.05e+01 2.31e+01 1.00e-02 1.00e-03]\n",
            " [2.05e+01 2.31e+01 1.00e-02 1.00e-02]\n",
            " [7.95e+01 7.69e+01 1.00e-02 1.00e-01]\n",
            " [7.95e+01 7.69e+01 1.00e-01 1.00e-03]\n",
            " [7.95e+01 7.69e+01 1.00e-01 1.00e-02]\n",
            " [7.95e+01 7.69e+01 1.00e-01 1.00e-01]\n",
            " [8.44e+01 8.17e+01 5.00e-01 1.00e-03]\n",
            " [7.97e+01 7.70e+01 5.00e-01 1.00e-02]\n",
            " [7.95e+01 7.69e+01 5.00e-01 1.00e-01]] [8.44e+01 8.17e+01 5.00e-01 1.00e-03]\n"
          ],
          "name": "stdout"
        }
      ]
    },
    {
      "cell_type": "code",
      "metadata": {
        "id": "x2cTr87SMsNK"
      },
      "source": [
        ""
      ],
      "execution_count": null,
      "outputs": []
    },
    {
      "cell_type": "markdown",
      "metadata": {
        "id": "gwC5U0CefAak"
      },
      "source": [
        "###**Logistic Regression**"
      ]
    },
    {
      "cell_type": "code",
      "metadata": {
        "id": "Y_g0renHsLQU"
      },
      "source": [
        "#Reshapes labels into 1D array\n",
        "y_train = y_train.reshape((1000,))\n",
        "y_test = y_test.reshape((1000,))"
      ],
      "execution_count": null,
      "outputs": []
    },
    {
      "cell_type": "markdown",
      "metadata": {
        "id": "5i91vtpBnO_9"
      },
      "source": [
        "####Lasso regularization"
      ]
    },
    {
      "cell_type": "code",
      "metadata": {
        "id": "NQzfs5kJfI3R"
      },
      "source": [
        "#Declares lists to store accuracy values\n",
        "training_acc_lasso = []\n",
        "test_acc_lasso = []\n",
        "c_lasso = []"
      ],
      "execution_count": null,
      "outputs": []
    },
    {
      "cell_type": "code",
      "metadata": {
        "id": "SIR3vdL9nzxx"
      },
      "source": [
        "#Logistic regression with lasso regularization\n",
        "def logreg_model_lasso(c, X_train, y_train, X_test, y_test):\n",
        "    logreg = linear_model.LogisticRegression(penalty=\"l1\", C=c, solver=\"saga\")\n",
        "    logreg.fit(X_train, y_train)\n",
        "    yhat_train = logreg.predict(X_train)\n",
        "    \n",
        "    # Adding training accuracy to training_acc_lasso\n",
        "    training_acc = logreg.score(X_train, y_train)\n",
        "    training_acc_lasso.append(training_acc)\n",
        "    print(\"Accuracy on training data = %f\" % training_acc)\n",
        "    \n",
        "    yhat_test = logreg.predict(X_test)\n",
        "    \n",
        "    # Adding testing accuracy to test_acc_lasso\n",
        "    test_acc = logreg.score(X_test, y_test)\n",
        "    test_acc_lasso.append(test_acc)\n",
        "    print(\"Accuracy on test data = %f\\n\" % test_acc)\n",
        "  \n",
        "    # Appending value of c for graphing purposes\n",
        "    c_lasso.append(c)"
      ],
      "execution_count": null,
      "outputs": []
    },
    {
      "cell_type": "code",
      "metadata": {
        "colab": {
          "base_uri": "https://localhost:8080/"
        },
        "id": "-f3f6r0w8Rdf",
        "outputId": "7dab94e7-1a61-453f-88e8-b2599ee5d865"
      },
      "source": [
        "#Runs logistic regression with different levels of lasso regularization\n",
        "c_vals = [0.0001, 0.001, 0.01, 0.1, 1, 10]\n",
        "\n",
        "for c in c_vals:\n",
        "  print(\"c = {}\".format(c))\n",
        "  logreg_model_lasso(c, X_train, y_train, X_test, y_test)"
      ],
      "execution_count": null,
      "outputs": [
        {
          "output_type": "stream",
          "text": [
            "c = 0.0001\n",
            "Accuracy on training data = 0.795000\n",
            "Accuracy on test data = 0.769000\n",
            "\n",
            "c = 0.001\n",
            "Accuracy on training data = 0.795000\n",
            "Accuracy on test data = 0.769000\n",
            "\n",
            "c = 0.01\n",
            "Accuracy on training data = 0.796000\n",
            "Accuracy on test data = 0.769000\n",
            "\n",
            "c = 0.1\n",
            "Accuracy on training data = 0.855000\n",
            "Accuracy on test data = 0.844000\n",
            "\n",
            "c = 1\n",
            "Accuracy on training data = 0.864000\n",
            "Accuracy on test data = 0.846000\n",
            "\n",
            "c = 10\n",
            "Accuracy on training data = 0.862000\n",
            "Accuracy on test data = 0.850000\n",
            "\n"
          ],
          "name": "stdout"
        },
        {
          "output_type": "stream",
          "text": [
            "/usr/local/lib/python3.7/dist-packages/sklearn/linear_model/_sag.py:330: ConvergenceWarning: The max_iter was reached which means the coef_ did not converge\n",
            "  \"the coef_ did not converge\", ConvergenceWarning)\n",
            "/usr/local/lib/python3.7/dist-packages/sklearn/linear_model/_sag.py:330: ConvergenceWarning: The max_iter was reached which means the coef_ did not converge\n",
            "  \"the coef_ did not converge\", ConvergenceWarning)\n"
          ],
          "name": "stderr"
        }
      ]
    },
    {
      "cell_type": "code",
      "metadata": {
        "colab": {
          "base_uri": "https://localhost:8080/",
          "height": 313
        },
        "id": "4gmeNy_Y8eqf",
        "outputId": "c2171c6c-2557-407f-8e1a-73585dd55b49"
      },
      "source": [
        "#Plots the accuracy data\n",
        "plt.plot(c_lasso, training_acc_lasso, \".-\", color=\"green\")\n",
        "plt.plot(c_lasso, test_acc_lasso, \".-\", color=\"blue\")\n",
        "plt.title(\"Logistic regression (Lasso)\")\n",
        "plt.xlabel(\"c\")\n",
        "plt.ylabel(\"accuracy\")\n",
        "plt.legend([\"training accuracy\", \"test accuracy\"])"
      ],
      "execution_count": null,
      "outputs": [
        {
          "output_type": "execute_result",
          "data": {
            "text/plain": [
              "<matplotlib.legend.Legend at 0x7f48dbbe59d0>"
            ]
          },
          "metadata": {
            "tags": []
          },
          "execution_count": 34
        },
        {
          "output_type": "display_data",
          "data": {
            "image/png": "[encoded data removed]",
            "text/plain": [
              "<Figure size 432x288 with 1 Axes>"
            ]
          },
          "metadata": {
            "tags": [],
            "needs_background": "light"
          }
        }
      ]
    },
    {
      "cell_type": "markdown",
      "metadata": {
        "id": "PGa5pWaikPyA"
      },
      "source": [
        "####Ridge regularization"
      ]
    },
    {
      "cell_type": "code",
      "metadata": {
        "id": "a7fuEWpBkoyJ"
      },
      "source": [
        "#Initializes lists to store accuracy values\n",
        "training_acc_ridge = []\n",
        "test_acc_ridge = []\n",
        "c_ridge = []"
      ],
      "execution_count": null,
      "outputs": []
    },
    {
      "cell_type": "code",
      "metadata": {
        "id": "DM_rEVqGlH27"
      },
      "source": [
        "#Logistic regression with ridge regularization\n",
        "def logreg_model_ridge(c, X_train, y_train, X_test, y_test):\n",
        "    logreg = linear_model.LogisticRegression(C=c) #penalty is l2 (ridge) by default\n",
        "    logreg.fit(X_train, y_train)\n",
        "    yhat_train = logreg.predict(X_train)\n",
        "    \n",
        "    # Adding training accuracy to training_acc_lasso\n",
        "    training_acc = logreg.score(X_train, y_train)\n",
        "    training_acc_ridge.append(training_acc)\n",
        "    print(\"Accuracy on training data = %f\" % training_acc)\n",
        "    \n",
        "    yhat_test = logreg.predict(X_test)\n",
        "    \n",
        "    # Adding testing accuracy to test_acc_lasso\n",
        "    test_acc = logreg.score(X_test, y_test)\n",
        "    test_acc_ridge.append(test_acc)\n",
        "    print(\"Accuracy on test data = %f\\n\" % test_acc)\n",
        "  \n",
        "    # Appending value of c for graphing purposes\n",
        "    c_ridge.append(c)"
      ],
      "execution_count": null,
      "outputs": []
    },
    {
      "cell_type": "code",
      "metadata": {
        "colab": {
          "base_uri": "https://localhost:8080/"
        },
        "id": "Id7smLAUlZwN",
        "outputId": "17175287-ffb4-4b59-8ebf-e021e98da249"
      },
      "source": [
        "#Runs logistic regression with different levels of ridge regularization\n",
        "c_vals = [0.0001, 0.001, 0.01, 0.1, 1, 10]\n",
        "\n",
        "for c in c_vals:\n",
        "  print(\"c = {}\".format(c))\n",
        "  logreg_model_ridge(c, X_train, y_train, X_test, y_test)"
      ],
      "execution_count": null,
      "outputs": [
        {
          "output_type": "stream",
          "text": [
            "c = 0.0001\n",
            "Accuracy on training data = 0.795000\n",
            "Accuracy on test data = 0.769000\n",
            "\n",
            "c = 0.001\n",
            "Accuracy on training data = 0.799000\n",
            "Accuracy on test data = 0.773000\n",
            "\n",
            "c = 0.01\n",
            "Accuracy on training data = 0.850000\n",
            "Accuracy on test data = 0.825000\n",
            "\n",
            "c = 0.1\n",
            "Accuracy on training data = 0.860000\n",
            "Accuracy on test data = 0.841000\n",
            "\n",
            "c = 1\n",
            "Accuracy on training data = 0.861000\n",
            "Accuracy on test data = 0.848000\n",
            "\n",
            "c = 10\n",
            "Accuracy on training data = 0.863000\n",
            "Accuracy on test data = 0.845000\n",
            "\n"
          ],
          "name": "stdout"
        }
      ]
    },
    {
      "cell_type": "code",
      "metadata": {
        "colab": {
          "base_uri": "https://localhost:8080/",
          "height": 313
        },
        "id": "-_aC4gS9ldYc",
        "outputId": "51a27208-9919-4ab4-855d-61071c5b441a"
      },
      "source": [
        "#Plots the accuracy data\n",
        "plt.plot(c_ridge, training_acc_ridge, \".-\", color=\"green\")\n",
        "plt.plot(c_ridge, test_acc_ridge, \".-\", color=\"blue\")\n",
        "plt.title(\"Logistic regression (Ridge)\")\n",
        "plt.xlabel(\"c\")\n",
        "plt.ylabel(\"accuracy\")\n",
        "plt.legend([\"training accuracy\", \"test accuracy\"])"
      ],
      "execution_count": null,
      "outputs": [
        {
          "output_type": "execute_result",
          "data": {
            "text/plain": [
              "<matplotlib.legend.Legend at 0x7f48dbaf35d0>"
            ]
          },
          "metadata": {
            "tags": []
          },
          "execution_count": 35
        },
        {
          "output_type": "display_data",
          "data": {
            "image/png": "[encoded data removed]",
            "text/plain": [
              "<Figure size 432x288 with 1 Axes>"
            ]
          },
          "metadata": {
            "tags": [],
            "needs_background": "light"
          }
        }
      ]
    },
    {
      "cell_type": "markdown",
      "metadata": {
        "id": "OnuyK19Hlrgv"
      },
      "source": [
        "####Polynomial Transformation"
      ]
    },
    {
      "cell_type": "code",
      "metadata": {
        "colab": {
          "base_uri": "https://localhost:8080/"
        },
        "id": "1gooGZWCluJd",
        "outputId": "d1dad335-608b-48b9-ea8a-03008af49fab"
      },
      "source": [
        "#Transforms features\n",
        "from sklearn.preprocessing import PolynomialFeatures\n",
        "poly = PolynomialFeatures(degree=2)\n",
        "\n",
        "X_train_poly = poly.fit_transform(X_train)\n",
        "X_test_poly = poly.fit_transform(X_test)\n",
        "print(X_train.shape)\n",
        "print(X_train_poly.shape)"
      ],
      "execution_count": null,
      "outputs": [
        {
          "output_type": "stream",
          "text": [
            "(1000, 17)\n",
            "(1000, 171)\n"
          ],
          "name": "stdout"
        }
      ]
    },
    {
      "cell_type": "code",
      "metadata": {
        "colab": {
          "base_uri": "https://localhost:8080/",
          "height": 876
        },
        "id": "PbNwWPTGo4Mr",
        "outputId": "99b74150-8c3a-4a3d-9046-200abe668f0b"
      },
      "source": [
        "#Lasso regularization\n",
        "training_acc_lasso = []\n",
        "test_acc_lasso = []\n",
        "c_lasso = []\n",
        "\n",
        "#Runs logistic regression with transformed features\n",
        "for c in c_vals:\n",
        "  print(\"c = {}\".format(c))\n",
        "  logreg_model_lasso(c, X_train_poly, y_train, X_test_poly, y_test)\n",
        "\n",
        "#Plots the accuracy data\n",
        "plt.plot(c_lasso, training_acc_lasso, \".-\", color=\"green\")\n",
        "plt.plot(c_lasso, test_acc_lasso, \".-\", color=\"blue\")\n",
        "plt.title(\"Logistic regression (Transformed features)\")\n",
        "plt.xlabel(\"c\")\n",
        "plt.ylabel(\"accuracy\")\n",
        "plt.legend([\"training accuracy\", \"test accuracy\"])"
      ],
      "execution_count": null,
      "outputs": [
        {
          "output_type": "stream",
          "text": [
            "c = 0.0001\n",
            "Accuracy on training data = 0.795000\n",
            "Accuracy on test data = 0.769000\n",
            "\n",
            "c = 0.001\n",
            "Accuracy on training data = 0.795000\n",
            "Accuracy on test data = 0.769000\n",
            "\n",
            "c = 0.01\n"
          ],
          "name": "stdout"
        },
        {
          "output_type": "stream",
          "text": [
            "/usr/local/lib/python3.7/dist-packages/sklearn/linear_model/_sag.py:330: ConvergenceWarning: The max_iter was reached which means the coef_ did not converge\n",
            "  \"the coef_ did not converge\", ConvergenceWarning)\n"
          ],
          "name": "stderr"
        },
        {
          "output_type": "stream",
          "text": [
            "Accuracy on training data = 0.795000\n",
            "Accuracy on test data = 0.769000\n",
            "\n",
            "c = 0.1\n"
          ],
          "name": "stdout"
        },
        {
          "output_type": "stream",
          "text": [
            "/usr/local/lib/python3.7/dist-packages/sklearn/linear_model/_sag.py:330: ConvergenceWarning: The max_iter was reached which means the coef_ did not converge\n",
            "  \"the coef_ did not converge\", ConvergenceWarning)\n"
          ],
          "name": "stderr"
        },
        {
          "output_type": "stream",
          "text": [
            "Accuracy on training data = 0.845000\n",
            "Accuracy on test data = 0.819000\n",
            "\n",
            "c = 1\n"
          ],
          "name": "stdout"
        },
        {
          "output_type": "stream",
          "text": [
            "/usr/local/lib/python3.7/dist-packages/sklearn/linear_model/_sag.py:330: ConvergenceWarning: The max_iter was reached which means the coef_ did not converge\n",
            "  \"the coef_ did not converge\", ConvergenceWarning)\n"
          ],
          "name": "stderr"
        },
        {
          "output_type": "stream",
          "text": [
            "Accuracy on training data = 0.850000\n",
            "Accuracy on test data = 0.823000\n",
            "\n",
            "c = 10\n",
            "Accuracy on training data = 0.850000\n",
            "Accuracy on test data = 0.823000\n",
            "\n"
          ],
          "name": "stdout"
        },
        {
          "output_type": "stream",
          "text": [
            "/usr/local/lib/python3.7/dist-packages/sklearn/linear_model/_sag.py:330: ConvergenceWarning: The max_iter was reached which means the coef_ did not converge\n",
            "  \"the coef_ did not converge\", ConvergenceWarning)\n"
          ],
          "name": "stderr"
        },
        {
          "output_type": "execute_result",
          "data": {
            "text/plain": [
              "<matplotlib.legend.Legend at 0x7f48dbad4d90>"
            ]
          },
          "metadata": {
            "tags": []
          },
          "execution_count": 36
        },
        {
          "output_type": "display_data",
          "data": {
            "image/png": "[encoded data removed]",
            "text/plain": [
              "<Figure size 432x288 with 1 Axes>"
            ]
          },
          "metadata": {
            "tags": [],
            "needs_background": "light"
          }
        }
      ]
    },
    {
      "cell_type": "markdown",
      "metadata": {
        "id": "AL84y3VPfJ6G"
      },
      "source": [
        "###**SVM**"
      ]
    },
    {
      "cell_type": "markdown",
      "metadata": {
        "id": "gUoDEg5tqKn3"
      },
      "source": [
        "####Linear Kernel"
      ]
    },
    {
      "cell_type": "code",
      "metadata": {
        "id": "wB9g91luqOe8"
      },
      "source": [
        "#Initializes lists to store accuracy values\n",
        "training_acc_svm_linear = []\n",
        "test_acc_svm_linear = []\n",
        "c_svm_linear = []"
      ],
      "execution_count": null,
      "outputs": []
    },
    {
      "cell_type": "code",
      "metadata": {
        "id": "irQMFRDcqbAw"
      },
      "source": [
        "#Linear SVM\n",
        "from sklearn import svm\n",
        "\n",
        "def svm_linear(c):\n",
        "    svc_linear = svm.SVC(probability=False, kernel=\"linear\", C=c)\n",
        "    \n",
        "    svc_linear.fit(X_train, y_train) \n",
        "    yhat_svc_linear_train = svc_linear.predict(X_train)\n",
        "    training_acc = svc_linear.score(X_train, y_train)\n",
        "    \n",
        "    # Adding testing accuracy to acc_train_svm\n",
        "    training_acc_svm_linear.append(training_acc)\n",
        "    print('Train Accuracy = {0:f}'.format(training_acc))\n",
        "    \n",
        "    yhat_svc_linear_test = svc_linear.predict(X_test)\n",
        "    test_acc = svc_linear.score(X_test, y_test)\n",
        "    \n",
        "    # Adding testing accuracy to acc_test_svm\n",
        "    test_acc_svm_linear.append(test_acc)\n",
        "    print('Test Accuracy = {0:f}\\n'.format(test_acc))\n",
        "    \n",
        "    # Appending value of c for graphing purposes\n",
        "    c_svm_linear.append(c)"
      ],
      "execution_count": null,
      "outputs": []
    },
    {
      "cell_type": "code",
      "metadata": {
        "colab": {
          "base_uri": "https://localhost:8080/"
        },
        "id": "Rkh0fksHr11O",
        "outputId": "f06774da-8ae9-49e8-ba84-6f5e1029122a"
      },
      "source": [
        "#Runs Linear SVM with different levels of regularization\n",
        "c_vals = [0.0001, 0.001, 0.01, 0.1, 1, 10]\n",
        "\n",
        "for c in c_vals:\n",
        "  print(\"c = {}\".format(c))\n",
        "  svm_linear(c)"
      ],
      "execution_count": null,
      "outputs": [
        {
          "output_type": "stream",
          "text": [
            "c = 0.0001\n",
            "Train Accuracy = 0.795000\n",
            "Test Accuracy = 0.769000\n",
            "\n",
            "c = 0.001\n",
            "Train Accuracy = 0.796000\n",
            "Test Accuracy = 0.769000\n",
            "\n",
            "c = 0.01\n",
            "Train Accuracy = 0.856000\n",
            "Test Accuracy = 0.832000\n",
            "\n",
            "c = 0.1\n",
            "Train Accuracy = 0.861000\n",
            "Test Accuracy = 0.839000\n",
            "\n",
            "c = 1\n",
            "Train Accuracy = 0.866000\n",
            "Test Accuracy = 0.842000\n",
            "\n",
            "c = 10\n",
            "Train Accuracy = 0.868000\n",
            "Test Accuracy = 0.845000\n",
            "\n"
          ],
          "name": "stdout"
        }
      ]
    },
    {
      "cell_type": "code",
      "metadata": {
        "colab": {
          "base_uri": "https://localhost:8080/",
          "height": 313
        },
        "id": "FtbBpZCEr-QQ",
        "outputId": "d08c6118-b114-40f5-e8c1-8ca10a041169"
      },
      "source": [
        "#Plots the accuracy data\n",
        "plt.plot(c_svm_linear, training_acc_svm_linear, \".-\", color=\"green\")\n",
        "plt.plot(c_svm_linear, test_acc_svm_linear, \".-\", color=\"blue\")\n",
        "plt.title(\"Linear SVM\")\n",
        "plt.xlabel(\"c\")\n",
        "plt.ylabel(\"accuracy\")\n",
        "plt.legend([\"training accuracy\", \"test accuracy\"])"
      ],
      "execution_count": null,
      "outputs": [
        {
          "output_type": "execute_result",
          "data": {
            "text/plain": [
              "<matplotlib.legend.Legend at 0x7f48dba12ed0>"
            ]
          },
          "metadata": {
            "tags": []
          },
          "execution_count": 37
        },
        {
          "output_type": "display_data",
          "data": {
            "image/png": "[encoded data removed]",
            "text/plain": [
              "<Figure size 432x288 with 1 Axes>"
            ]
          },
          "metadata": {
            "tags": [],
            "needs_background": "light"
          }
        }
      ]
    },
    {
      "cell_type": "markdown",
      "metadata": {
        "id": "IxAG197Lsowt"
      },
      "source": [
        "####RBF Kernel"
      ]
    },
    {
      "cell_type": "code",
      "metadata": {
        "id": "eeMiEfxJsjgm"
      },
      "source": [
        "#Initializes lists to store accuracy values\n",
        "training_acc_svm_rbf = []\n",
        "test_acc_svm_rbf = []\n",
        "c_svm_rbf = []"
      ],
      "execution_count": null,
      "outputs": []
    },
    {
      "cell_type": "code",
      "metadata": {
        "id": "W39bUttKsy1D"
      },
      "source": [
        "#RBF SVM\n",
        "def svm_rbf(c):\n",
        "    svc_rbf = svm.SVC(probability=False, kernel=\"rbf\", C=c)\n",
        "    \n",
        "    svc_rbf.fit(X_train, y_train) \n",
        "    yhat_svc_rbf_train = svc_rbf.predict(X_train)\n",
        "    training_acc = svc_rbf.score(X_train, y_train)\n",
        "    \n",
        "    # Adding testing accuracy to acc_train_svm\n",
        "    training_acc_svm_rbf.append(training_acc)\n",
        "    print('Train Accuracy = {0:f}'.format(training_acc))\n",
        "    \n",
        "    yhat_svc_rbf_test = svc_rbf.predict(X_test)\n",
        "    test_acc = svc_rbf.score(X_test, y_test)\n",
        "    \n",
        "    # Adding testing accuracy to acc_test_svm\n",
        "    test_acc_svm_rbf.append(test_acc)\n",
        "    print('Test Accuracy = {0:f}\\n'.format(test_acc))\n",
        "    \n",
        "    # Appending value of c for graphing purposes\n",
        "    c_svm_rbf.append(c)"
      ],
      "execution_count": null,
      "outputs": []
    },
    {
      "cell_type": "code",
      "metadata": {
        "colab": {
          "base_uri": "https://localhost:8080/"
        },
        "id": "lSZFU7PgtKyB",
        "outputId": "7d58e816-0af1-4106-c85b-913fc8c80451"
      },
      "source": [
        "#Runs RBF SVM with different levels of regularization\n",
        "c_vals = [0.0001, 0.001, 0.01, 0.1, 1, 10]\n",
        "\n",
        "for c in c_vals:\n",
        "  print(\"c = {}\".format(c))\n",
        "  svm_rbf(c)"
      ],
      "execution_count": null,
      "outputs": [
        {
          "output_type": "stream",
          "text": [
            "c = 0.0001\n",
            "Train Accuracy = 0.795000\n",
            "Test Accuracy = 0.769000\n",
            "\n",
            "c = 0.001\n",
            "Train Accuracy = 0.795000\n",
            "Test Accuracy = 0.769000\n",
            "\n",
            "c = 0.01\n",
            "Train Accuracy = 0.795000\n",
            "Test Accuracy = 0.769000\n",
            "\n",
            "c = 0.1\n",
            "Train Accuracy = 0.816000\n",
            "Test Accuracy = 0.785000\n",
            "\n",
            "c = 1\n",
            "Train Accuracy = 0.880000\n",
            "Test Accuracy = 0.836000\n",
            "\n",
            "c = 10\n",
            "Train Accuracy = 0.956000\n",
            "Test Accuracy = 0.833000\n",
            "\n"
          ],
          "name": "stdout"
        }
      ]
    },
    {
      "cell_type": "code",
      "metadata": {
        "colab": {
          "base_uri": "https://localhost:8080/",
          "height": 313
        },
        "id": "aVpAsWzntO16",
        "outputId": "1408a7b3-31a1-48ec-ec88-6adf78462948"
      },
      "source": [
        "#Plots the accuracy data\n",
        "plt.plot(c_svm_rbf, training_acc_svm_rbf, \".-\", color=\"green\")\n",
        "plt.plot(c_svm_rbf, test_acc_svm_rbf, \".-\", color=\"blue\")\n",
        "plt.title(\"RBF SVM\")\n",
        "plt.xlabel(\"c\")\n",
        "plt.ylabel(\"accuracy\")\n",
        "plt.legend([\"training accuracy\", \"test accuracy\"])"
      ],
      "execution_count": null,
      "outputs": [
        {
          "output_type": "execute_result",
          "data": {
            "text/plain": [
              "<matplotlib.legend.Legend at 0x7f48dba05f10>"
            ]
          },
          "metadata": {
            "tags": []
          },
          "execution_count": 38
        },
        {
          "output_type": "display_data",
          "data": {
            "image/png": "[encoded data removed]",
            "text/plain": [
              "<Figure size 432x288 with 1 Axes>"
            ]
          },
          "metadata": {
            "tags": [],
            "needs_background": "light"
          }
        }
      ]
    },
    {
      "cell_type": "markdown",
      "metadata": {
        "id": "irCEaxYoti5q"
      },
      "source": [
        "####Polynomial Kernel"
      ]
    },
    {
      "cell_type": "code",
      "metadata": {
        "id": "vsYZdZkytZZB"
      },
      "source": [
        "#Initializes lists to store accuracy values\n",
        "training_acc_svm_poly = []\n",
        "test_acc_svm_poly = []\n",
        "c_svm_poly = []"
      ],
      "execution_count": null,
      "outputs": []
    },
    {
      "cell_type": "code",
      "metadata": {
        "id": "bI20ZE1TttMB"
      },
      "source": [
        "#Polynomial SVM\n",
        "def svm_polynomial(c):\n",
        "    svc_polynomial = svm.SVC(probability=False, kernel=\"poly\", C=c)\n",
        "  \n",
        "    svc_polynomial.fit(X_train, y_train)\n",
        "    # TODO - Find the prediction and accuracy on the training set - 5 points\n",
        "    yhat_svc_poly_train = svc_polynomial.predict(X_train)\n",
        "    training_acc = svc_polynomial.score(X_train, y_train)\n",
        "    \n",
        "    # Adding testing accuracy to acc_train_svm\n",
        "    training_acc_svm_poly.append(training_acc)\n",
        "    print('Train Accuracy = {0:f}'.format(training_acc))\n",
        "    \n",
        "    # TODO - Find the prediction and accuracy on the test set - 5 points\n",
        "    yhat_svc_poly_test = svc_polynomial.predict(X_test)\n",
        "    test_acc = svc_polynomial.score(X_test, y_test)\n",
        "    \n",
        "    # Adding testing accuracy to acc_test_svm\n",
        "    test_acc_svm_poly.append(test_acc)\n",
        "    print('Test Accuracy = {0:f}\\n'.format(test_acc))\n",
        "    \n",
        "    # Appending value of c for graphing purposes\n",
        "    c_svm_poly.append(c)"
      ],
      "execution_count": null,
      "outputs": []
    },
    {
      "cell_type": "code",
      "metadata": {
        "colab": {
          "base_uri": "https://localhost:8080/"
        },
        "id": "kudDEq-guRYI",
        "outputId": "5cc0bfd1-fdfc-4195-bc31-07b6081997c8"
      },
      "source": [
        "#Runs Polynomial SVM with different levels of regularization\n",
        "c_vals = [0.0001, 0.001, 0.01, 0.1, 1, 10]\n",
        "\n",
        "for c in c_vals:\n",
        "  print(\"c = {}\".format(c))\n",
        "  svm_polynomial(c)"
      ],
      "execution_count": null,
      "outputs": [
        {
          "output_type": "stream",
          "text": [
            "c = 0.0001\n",
            "Train Accuracy = 0.796000\n",
            "Test Accuracy = 0.769000\n",
            "\n",
            "c = 0.001\n",
            "Train Accuracy = 0.796000\n",
            "Test Accuracy = 0.769000\n",
            "\n",
            "c = 0.01\n",
            "Train Accuracy = 0.802000\n",
            "Test Accuracy = 0.774000\n",
            "\n",
            "c = 0.1\n",
            "Train Accuracy = 0.846000\n",
            "Test Accuracy = 0.817000\n",
            "\n",
            "c = 1\n",
            "Train Accuracy = 0.884000\n",
            "Test Accuracy = 0.832000\n",
            "\n",
            "c = 10\n",
            "Train Accuracy = 0.935000\n",
            "Test Accuracy = 0.827000\n",
            "\n"
          ],
          "name": "stdout"
        }
      ]
    },
    {
      "cell_type": "code",
      "metadata": {
        "colab": {
          "base_uri": "https://localhost:8080/",
          "height": 313
        },
        "id": "QmiD6iPtuU4V",
        "outputId": "818ae367-7146-4541-cff1-7dfd5879d545"
      },
      "source": [
        "#Plots the accuracy data\n",
        "plt.plot(c_svm_poly, training_acc_svm_poly, \".-\", color=\"green\")\n",
        "plt.plot(c_svm_poly, test_acc_svm_poly, \".-\", color=\"blue\")\n",
        "plt.title(\"Polynomial SVM\")\n",
        "plt.xlabel(\"c\")\n",
        "plt.ylabel(\"accuracy\")\n",
        "plt.legend([\"training accuracy\", \"test accuracy\"])"
      ],
      "execution_count": null,
      "outputs": [
        {
          "output_type": "execute_result",
          "data": {
            "text/plain": [
              "<matplotlib.legend.Legend at 0x7f48db98d8d0>"
            ]
          },
          "metadata": {
            "tags": []
          },
          "execution_count": 39
        },
        {
          "output_type": "display_data",
          "data": {
            "image/png": "[encoded data removed]",
            "text/plain": [
              "<Figure size 432x288 with 1 Axes>"
            ]
          },
          "metadata": {
            "tags": [],
            "needs_background": "light"
          }
        }
      ]
    }
  ]
}